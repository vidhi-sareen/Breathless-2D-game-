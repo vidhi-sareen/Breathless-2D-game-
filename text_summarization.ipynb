{
  "nbformat": 4,
  "nbformat_minor": 0,
  "metadata": {
    "colab": {
      "provenance": [],
      "authorship_tag": "ABX9TyMl/wqIT0DmTrDmDp/FOvGQ",
      "include_colab_link": true
    },
    "kernelspec": {
      "name": "python3",
      "display_name": "Python 3"
    },
    "language_info": {
      "name": "python"
    },
    "accelerator": "GPU",
    "gpuClass": "standard"
  },
  "cells": [
    {
      "cell_type": "markdown",
      "metadata": {
        "id": "view-in-github",
        "colab_type": "text"
      },
      "source": [
        "<a href=\"https://colab.research.google.com/github/vidhi-sareen/Breathless-2D-game-/blob/main/text_summarization.ipynb\" target=\"_parent\"><img src=\"https://colab.research.google.com/assets/colab-badge.svg\" alt=\"Open In Colab\"/></a>"
      ]
    },
    {
      "cell_type": "code",
      "execution_count": null,
      "metadata": {
        "colab": {
          "base_uri": "https://localhost:8080/"
        },
        "id": "Pd37tSP_b-IG",
        "outputId": "8e3e1cb8-3325-49f9-ef57-b3ffff866447"
      },
      "outputs": [
        {
          "output_type": "stream",
          "name": "stdout",
          "text": [
            "Looking in indexes: https://pypi.org/simple, https://us-python.pkg.dev/colab-wheels/public/simple/\n",
            "Requirement already satisfied: pip in /usr/local/lib/python3.8/dist-packages (22.0.4)\n",
            "Collecting pip\n",
            "  Downloading pip-23.0-py3-none-any.whl (2.1 MB)\n",
            "\u001b[2K     \u001b[90m━━━━━━━━━━━━━━━━━━━━━━━━━━━━━━━━━━━━━━━━\u001b[0m \u001b[32m2.1/2.1 MB\u001b[0m \u001b[31m35.2 MB/s\u001b[0m eta \u001b[36m0:00:00\u001b[0m\n",
            "\u001b[?25hRequirement already satisfied: setuptools in /usr/local/lib/python3.8/dist-packages (57.4.0)\n",
            "Collecting setuptools\n",
            "  Downloading setuptools-67.3.1-py3-none-any.whl (1.1 MB)\n",
            "\u001b[2K     \u001b[90m━━━━━━━━━━━━━━━━━━━━━━━━━━━━━━━━━━━━━━━━\u001b[0m \u001b[32m1.1/1.1 MB\u001b[0m \u001b[31m9.7 MB/s\u001b[0m eta \u001b[36m0:00:00\u001b[0m\n",
            "\u001b[?25hRequirement already satisfied: wheel in /usr/local/lib/python3.8/dist-packages (0.38.4)\n",
            "Installing collected packages: setuptools, pip\n",
            "  Attempting uninstall: setuptools\n",
            "    Found existing installation: setuptools 57.4.0\n",
            "    Uninstalling setuptools-57.4.0:\n",
            "      Successfully uninstalled setuptools-57.4.0\n",
            "  Attempting uninstall: pip\n",
            "    Found existing installation: pip 22.0.4\n",
            "    Uninstalling pip-22.0.4:\n",
            "      Successfully uninstalled pip-22.0.4\n",
            "\u001b[31mERROR: pip's dependency resolver does not currently take into account all the packages that are installed. This behaviour is the source of the following dependency conflicts.\n",
            "ipython 7.9.0 requires jedi>=0.10, which is not installed.\n",
            "cvxpy 1.2.3 requires setuptools<=64.0.2, but you have setuptools 67.3.1 which is incompatible.\u001b[0m\u001b[31m\n",
            "\u001b[0mSuccessfully installed pip-23.0 setuptools-67.3.1\n"
          ]
        }
      ],
      "source": [
        "pip install -U pip setuptools wheel"
      ]
    },
    {
      "cell_type": "code",
      "source": [
        "pip install -U spacy"
      ],
      "metadata": {
        "id": "vjRhFcvVcSEe",
        "colab": {
          "base_uri": "https://localhost:8080/"
        },
        "outputId": "5d0e84eb-7c36-43b6-e809-d6e5ab9ffeae"
      },
      "execution_count": null,
      "outputs": [
        {
          "output_type": "stream",
          "name": "stdout",
          "text": [
            "Looking in indexes: https://pypi.org/simple, https://us-python.pkg.dev/colab-wheels/public/simple/\n",
            "Requirement already satisfied: spacy in /usr/local/lib/python3.8/dist-packages (3.4.4)\n",
            "Collecting spacy\n",
            "  Downloading spacy-3.5.0-cp38-cp38-manylinux_2_17_x86_64.manylinux2014_x86_64.whl (6.7 MB)\n",
            "\u001b[2K     \u001b[90m━━━━━━━━━━━━━━━━━━━━━━━━━━━━━━━━━━━━━━━━\u001b[0m \u001b[32m6.7/6.7 MB\u001b[0m \u001b[31m55.4 MB/s\u001b[0m eta \u001b[36m0:00:00\u001b[0m\n",
            "\u001b[?25hRequirement already satisfied: cymem<2.1.0,>=2.0.2 in /usr/local/lib/python3.8/dist-packages (from spacy) (2.0.7)\n",
            "Requirement already satisfied: langcodes<4.0.0,>=3.2.0 in /usr/local/lib/python3.8/dist-packages (from spacy) (3.3.0)\n",
            "Requirement already satisfied: spacy-loggers<2.0.0,>=1.0.0 in /usr/local/lib/python3.8/dist-packages (from spacy) (1.0.4)\n",
            "Requirement already satisfied: thinc<8.2.0,>=8.1.0 in /usr/local/lib/python3.8/dist-packages (from spacy) (8.1.7)\n",
            "Requirement already satisfied: setuptools in /usr/local/lib/python3.8/dist-packages (from spacy) (67.3.1)\n",
            "Requirement already satisfied: murmurhash<1.1.0,>=0.28.0 in /usr/local/lib/python3.8/dist-packages (from spacy) (1.0.9)\n",
            "Requirement already satisfied: pathy>=0.10.0 in /usr/local/lib/python3.8/dist-packages (from spacy) (0.10.1)\n",
            "Requirement already satisfied: preshed<3.1.0,>=3.0.2 in /usr/local/lib/python3.8/dist-packages (from spacy) (3.0.8)\n",
            "Requirement already satisfied: jinja2 in /usr/local/lib/python3.8/dist-packages (from spacy) (2.11.3)\n",
            "Requirement already satisfied: spacy-legacy<3.1.0,>=3.0.11 in /usr/local/lib/python3.8/dist-packages (from spacy) (3.0.12)\n",
            "Requirement already satisfied: requests<3.0.0,>=2.13.0 in /usr/local/lib/python3.8/dist-packages (from spacy) (2.25.1)\n",
            "Requirement already satisfied: typer<0.8.0,>=0.3.0 in /usr/local/lib/python3.8/dist-packages (from spacy) (0.7.0)\n",
            "Requirement already satisfied: packaging>=20.0 in /usr/local/lib/python3.8/dist-packages (from spacy) (23.0)\n",
            "Requirement already satisfied: numpy>=1.15.0 in /usr/local/lib/python3.8/dist-packages (from spacy) (1.21.6)\n",
            "Requirement already satisfied: catalogue<2.1.0,>=2.0.6 in /usr/local/lib/python3.8/dist-packages (from spacy) (2.0.8)\n",
            "Requirement already satisfied: smart-open<7.0.0,>=5.2.1 in /usr/local/lib/python3.8/dist-packages (from spacy) (6.3.0)\n",
            "Requirement already satisfied: tqdm<5.0.0,>=4.38.0 in /usr/local/lib/python3.8/dist-packages (from spacy) (4.64.1)\n",
            "Requirement already satisfied: pydantic!=1.8,!=1.8.1,<1.11.0,>=1.7.4 in /usr/local/lib/python3.8/dist-packages (from spacy) (1.10.4)\n",
            "Requirement already satisfied: srsly<3.0.0,>=2.4.3 in /usr/local/lib/python3.8/dist-packages (from spacy) (2.4.5)\n",
            "Requirement already satisfied: wasabi<1.2.0,>=0.9.1 in /usr/local/lib/python3.8/dist-packages (from spacy) (0.10.1)\n",
            "Requirement already satisfied: typing-extensions>=4.2.0 in /usr/local/lib/python3.8/dist-packages (from pydantic!=1.8,!=1.8.1,<1.11.0,>=1.7.4->spacy) (4.4.0)\n",
            "Requirement already satisfied: certifi>=2017.4.17 in /usr/local/lib/python3.8/dist-packages (from requests<3.0.0,>=2.13.0->spacy) (2022.12.7)\n",
            "Requirement already satisfied: urllib3<1.27,>=1.21.1 in /usr/local/lib/python3.8/dist-packages (from requests<3.0.0,>=2.13.0->spacy) (1.24.3)\n",
            "Requirement already satisfied: idna<3,>=2.5 in /usr/local/lib/python3.8/dist-packages (from requests<3.0.0,>=2.13.0->spacy) (2.10)\n",
            "Requirement already satisfied: chardet<5,>=3.0.2 in /usr/local/lib/python3.8/dist-packages (from requests<3.0.0,>=2.13.0->spacy) (4.0.0)\n",
            "Requirement already satisfied: blis<0.8.0,>=0.7.8 in /usr/local/lib/python3.8/dist-packages (from thinc<8.2.0,>=8.1.0->spacy) (0.7.9)\n",
            "Requirement already satisfied: confection<1.0.0,>=0.0.1 in /usr/local/lib/python3.8/dist-packages (from thinc<8.2.0,>=8.1.0->spacy) (0.0.4)\n",
            "Requirement already satisfied: click<9.0.0,>=7.1.1 in /usr/local/lib/python3.8/dist-packages (from typer<0.8.0,>=0.3.0->spacy) (7.1.2)\n",
            "Requirement already satisfied: MarkupSafe>=0.23 in /usr/local/lib/python3.8/dist-packages (from jinja2->spacy) (2.0.1)\n",
            "Installing collected packages: spacy\n",
            "  Attempting uninstall: spacy\n",
            "    Found existing installation: spacy 3.4.4\n",
            "    Uninstalling spacy-3.4.4:\n",
            "      Successfully uninstalled spacy-3.4.4\n",
            "\u001b[31mERROR: pip's dependency resolver does not currently take into account all the packages that are installed. This behaviour is the source of the following dependency conflicts.\n",
            "en-core-web-sm 3.4.1 requires spacy<3.5.0,>=3.4.0, but you have spacy 3.5.0 which is incompatible.\u001b[0m\u001b[31m\n",
            "\u001b[0mSuccessfully installed spacy-3.5.0\n",
            "\u001b[33mWARNING: Running pip as the 'root' user can result in broken permissions and conflicting behaviour with the system package manager. It is recommended to use a virtual environment instead: https://pip.pypa.io/warnings/venv\u001b[0m\u001b[33m\n",
            "\u001b[0m"
          ]
        }
      ]
    },
    {
      "cell_type": "code",
      "source": [
        "import spacy"
      ],
      "metadata": {
        "id": "doFKauYpcUHO"
      },
      "execution_count": null,
      "outputs": []
    },
    {
      "cell_type": "code",
      "source": [
        "spacy.prefer_gpu()"
      ],
      "metadata": {
        "id": "EzQhuca4c12i",
        "colab": {
          "base_uri": "https://localhost:8080/"
        },
        "outputId": "3db173bc-674a-4f48-bbe7-d0ba5ea9feb8"
      },
      "execution_count": null,
      "outputs": [
        {
          "output_type": "execute_result",
          "data": {
            "text/plain": [
              "True"
            ]
          },
          "metadata": {},
          "execution_count": 4
        }
      ]
    },
    {
      "cell_type": "code",
      "source": [
        "nlp = spacy.load(\"en_core_web_sm\")"
      ],
      "metadata": {
        "id": "cV-oLqTVc5lF",
        "colab": {
          "base_uri": "https://localhost:8080/"
        },
        "outputId": "0e1c3975-022d-473b-d234-e4be42a421e6"
      },
      "execution_count": null,
      "outputs": [
        {
          "output_type": "stream",
          "name": "stderr",
          "text": [
            "/usr/local/lib/python3.8/dist-packages/spacy/util.py:877: UserWarning: [W095] Model 'en_core_web_sm' (3.4.1) was trained with spaCy v3.4 and may not be 100% compatible with the current version (3.5.0). If you see errors or degraded performance, download a newer compatible model or retrain your custom model with the current spaCy version. For more details and available updates, run: python -m spacy validate\n",
            "  warnings.warn(warn_msg)\n"
          ]
        }
      ]
    },
    {
      "cell_type": "code",
      "source": [
        "from spacy.lang.en.stop_words import STOP_WORDS"
      ],
      "metadata": {
        "id": "JLT7erzgc9dk"
      },
      "execution_count": null,
      "outputs": []
    },
    {
      "cell_type": "code",
      "source": [
        "from string import punctuation"
      ],
      "metadata": {
        "id": "QLreJq3_dPHI"
      },
      "execution_count": null,
      "outputs": []
    },
    {
      "cell_type": "code",
      "source": [
        "text =\"\"\"The series takes place at the Gokuldham Co-operative Housing Society, an apartment complex in Powder Gali, Film City Road, Goregaon East, Mumbai, and focuses on the members of Gokuldham Society who come from different backgrounds.\n",
        "\n",
        "Gokuldham is also referred to as \"Mini India\" in the show. The residents of Gokuldham are shown facing many problems and finding solutions for those problems. The show also occasionally highlights social issues. Most of the episodes are based on Jethalal being stuck in a problem and Taarak Mehta, his best friend, whom he calls his \"Fire Brigade\", rescues him. Society Members live like a family and help each other in their problems, to promote unity in diversity. The members of Gokuldham celebrate all the festivals and organise various events too.\"\"\""
      ],
      "metadata": {
        "id": "ht0-MJxQdUNB"
      },
      "execution_count": null,
      "outputs": []
    },
    {
      "cell_type": "code",
      "source": [
        "print(text)"
      ],
      "metadata": {
        "id": "Jhrv2X4eeQmM",
        "colab": {
          "base_uri": "https://localhost:8080/"
        },
        "outputId": "2c6e826e-35e1-4bc4-98b6-fa202e837e5b"
      },
      "execution_count": null,
      "outputs": [
        {
          "output_type": "stream",
          "name": "stdout",
          "text": [
            "The series takes place at the Gokuldham Co-operative Housing Society, an apartment complex in Powder Gali, Film City Road, Goregaon East, Mumbai, and focuses on the members of Gokuldham Society who come from different backgrounds.\n",
            "\n",
            "Gokuldham is also referred to as \"Mini India\" in the show. The residents of Gokuldham are shown facing many problems and finding solutions for those problems. The show also occasionally highlights social issues. Most of the episodes are based on Jethalal being stuck in a problem and Taarak Mehta, his best friend, whom he calls his \"Fire Brigade\", rescues him. Society Members live like a family and help each other in their problems, to promote unity in diversity. The members of Gokuldham celebrate all the festivals and organise various events too.\n"
          ]
        }
      ]
    },
    {
      "cell_type": "code",
      "source": [
        "stopwords = list(STOP_WORDS)"
      ],
      "metadata": {
        "id": "T6KkNWwYeTrD"
      },
      "execution_count": null,
      "outputs": []
    },
    {
      "cell_type": "code",
      "source": [
        "print(stopwords)"
      ],
      "metadata": {
        "id": "Ot74oxgtelCb",
        "colab": {
          "base_uri": "https://localhost:8080/"
        },
        "outputId": "af10f01b-1083-4d53-c3d7-7487ad496d7e"
      },
      "execution_count": null,
      "outputs": [
        {
          "output_type": "stream",
          "name": "stdout",
          "text": [
            "['see', 'forty', 'those', 'becoming', 'really', 'had', 'have', 'perhaps', 'how', 'because', '‘ve', 'whenever', 'latter', 'thence', 'n‘t', 'are', 'noone', 'therein', 'whole', 'so', 'beforehand', 'her', 'one', 'on', 'hereupon', 'thereafter', 'beyond', 'put', 'next', 'eight', 'however', 'very', 'that', \"n't\", 'such', 'bottom', 'other', 'whom', \"'s\", 'nine', 'something', 'from', 'many', 'less', 'themselves', 'hundred', 'at', 'be', 'he', 'also', 'did', 'some', 'more', 'same', 'whence', 'side', 'indeed', 'upon', 'by', 'full', '‘m', 'enough', 'of', 'sometimes', 'mostly', 'show', 'while', 'alone', 'until', 'latterly', 'neither', 'another', 'became', \"'ve\", 'everywhere', 'these', 'whose', 'move', 'you', 'must', 'namely', 'between', 'here', 'being', 'in', 'per', 'us', 'elsewhere', 'anyone', 'third', 'afterwards', 'whither', 'rather', 'hereafter', 'whatever', 'nor', 'seeming', 'least', '‘re', 'the', 'over', 'sometime', 'this', 'yours', 'still', 'whoever', 'few', 'onto', \"'d\", '’m', 'among', 'throughout', 'yourself', 'after', 'who', '‘ll', 'doing', 'may', 'thereby', 'becomes', 'no', 'front', 'for', 'though', 'if', 'then', 'anywhere', 'your', 'somehow', '’d', 'hence', 'them', 'back', 'they', 'used', 'through', 'due', 'yourselves', '‘d', 'and', 'when', 'make', 're', 'below', '‘s', 'most', 'nothing', 'behind', 'several', 'often', 'him', 'me', 'further', \"'re\", 'whereas', 'down', 'where', 'since', '’ll', '’re', 'beside', 'already', 'along', 'is', 'seems', 'six', 'can', 'only', 'unless', 'please', 'thru', 'sixty', 'serious', 'just', 'their', 'amongst', 'seemed', 'to', 'what', 'will', 'two', 'done', 'we', 'each', 'fifty', 'various', 'seem', 'although', 'quite', 'as', 'thus', 'itself', 'towards', 'never', 'nowhere', 'therefore', 'anyway', 'regarding', 'anything', 'everything', 'up', 'once', 'using', 'whereafter', 'ever', 'myself', 'call', 'twelve', 'else', 'now', 'five', \"'ll\", 'should', 'much', 'i', 'around', \"'m\", 'ca', 'has', 'even', 'both', 'ten', 'eleven', 'keep', 'yet', 'could', 'than', 'every', 'not', 'without', 'again', 'am', 'others', 'anyhow', 'herein', 'well', 'been', 'but', 'would', 'might', 'a', 'whereby', 'out', 'under', 'part', 'take', 'whether', 'toward', 'were', 'ourselves', 'why', 'amount', 'mine', 'besides', 'fifteen', 'its', 'our', 'either', 'via', 'n’t', 'across', 'get', 'somewhere', 'together', 'whereupon', 'name', 'former', 'nevertheless', 'none', 'within', 'made', 'empty', 'off', 'my', 'too', 'does', 'everyone', 'almost', 'always', 'or', 'meanwhile', 'during', 'with', 'was', 'herself', '’s', 'all', 'it', 'first', 'ours', 'someone', 'top', 'cannot', 'give', 'his', 'thereupon', 'wherever', 'hereby', 'moreover', 'hers', 'twenty', 'last', 'go', 'otherwise', '’ve', 'into', 'four', 'against', 'nobody', 'himself', 'any', 'become', 'which', 'formerly', 'above', 'say', 'wherein', 'three', 'there', 'before', 'own', 'except', 'an', 'about', 'she', 'do']\n"
          ]
        }
      ]
    },
    {
      "cell_type": "code",
      "source": [
        "doc = nlp(text)"
      ],
      "metadata": {
        "id": "rmVzisTweqgi"
      },
      "execution_count": null,
      "outputs": []
    },
    {
      "cell_type": "code",
      "source": [
        "print(doc)"
      ],
      "metadata": {
        "id": "zC-kY78Ne3-h",
        "colab": {
          "base_uri": "https://localhost:8080/"
        },
        "outputId": "80089cdc-9ff5-473d-bf6a-a3e17d12cc17"
      },
      "execution_count": null,
      "outputs": [
        {
          "output_type": "stream",
          "name": "stdout",
          "text": [
            "The series takes place at the Gokuldham Co-operative Housing Society, an apartment complex in Powder Gali, Film City Road, Goregaon East, Mumbai, and focuses on the members of Gokuldham Society who come from different backgrounds.\n",
            "\n",
            "Gokuldham is also referred to as \"Mini India\" in the show. The residents of Gokuldham are shown facing many problems and finding solutions for those problems. The show also occasionally highlights social issues. Most of the episodes are based on Jethalal being stuck in a problem and Taarak Mehta, his best friend, whom he calls his \"Fire Brigade\", rescues him. Society Members live like a family and help each other in their problems, to promote unity in diversity. The members of Gokuldham celebrate all the festivals and organise various events too.\n"
          ]
        }
      ]
    },
    {
      "cell_type": "code",
      "source": [
        "tokens = [token.text for token in doc]"
      ],
      "metadata": {
        "id": "9oWu2pIRe72M"
      },
      "execution_count": null,
      "outputs": []
    },
    {
      "cell_type": "code",
      "source": [
        "print(tokens)"
      ],
      "metadata": {
        "id": "1rImoCclfIf9",
        "colab": {
          "base_uri": "https://localhost:8080/"
        },
        "outputId": "9c965a88-18db-498e-bf1c-4ee89e5d7b31"
      },
      "execution_count": null,
      "outputs": [
        {
          "output_type": "stream",
          "name": "stdout",
          "text": [
            "['The', 'series', 'takes', 'place', 'at', 'the', 'Gokuldham', 'Co', '-', 'operative', 'Housing', 'Society', ',', 'an', 'apartment', 'complex', 'in', 'Powder', 'Gali', ',', 'Film', 'City', 'Road', ',', 'Goregaon', 'East', ',', 'Mumbai', ',', 'and', 'focuses', 'on', 'the', 'members', 'of', 'Gokuldham', 'Society', 'who', 'come', 'from', 'different', 'backgrounds', '.', '\\n\\n', 'Gokuldham', 'is', 'also', 'referred', 'to', 'as', '\"', 'Mini', 'India', '\"', 'in', 'the', 'show', '.', 'The', 'residents', 'of', 'Gokuldham', 'are', 'shown', 'facing', 'many', 'problems', 'and', 'finding', 'solutions', 'for', 'those', 'problems', '.', 'The', 'show', 'also', 'occasionally', 'highlights', 'social', 'issues', '.', 'Most', 'of', 'the', 'episodes', 'are', 'based', 'on', 'Jethalal', 'being', 'stuck', 'in', 'a', 'problem', 'and', 'Taarak', 'Mehta', ',', 'his', 'best', 'friend', ',', 'whom', 'he', 'calls', 'his', '\"', 'Fire', 'Brigade', '\"', ',', 'rescues', 'him', '.', 'Society', 'Members', 'live', 'like', 'a', 'family', 'and', 'help', 'each', 'other', 'in', 'their', 'problems', ',', 'to', 'promote', 'unity', 'in', 'diversity', '.', 'The', 'members', 'of', 'Gokuldham', 'celebrate', 'all', 'the', 'festivals', 'and', 'organise', 'various', 'events', 'too', '.']\n"
          ]
        }
      ]
    },
    {
      "cell_type": "code",
      "source": [
        "word_freq = {}\n",
        "\n",
        "for word in doc:\n",
        "  if word.text.lower() not in stopwords and word.text.lower() not in punctuation:\n",
        "    if word.text not in word_freq.keys():\n",
        "      word_freq[word.text] = 1\n",
        "    else:\n",
        "      word_freq[word.text] += 1\n",
        "\n",
        "print(word_freq)\n"
      ],
      "metadata": {
        "id": "uVQVsQlifSfe",
        "colab": {
          "base_uri": "https://localhost:8080/"
        },
        "outputId": "2412b125-f913-4e4a-cd33-0160ba3954d0"
      },
      "execution_count": null,
      "outputs": [
        {
          "output_type": "stream",
          "name": "stdout",
          "text": [
            "{'series': 1, 'takes': 1, 'place': 1, 'Gokuldham': 5, 'Co': 1, 'operative': 1, 'Housing': 1, 'Society': 3, 'apartment': 1, 'complex': 1, 'Powder': 1, 'Gali': 1, 'Film': 1, 'City': 1, 'Road': 1, 'Goregaon': 1, 'East': 1, 'Mumbai': 1, 'focuses': 1, 'members': 2, 'come': 1, 'different': 1, 'backgrounds': 1, '\\n\\n': 1, 'referred': 1, 'Mini': 1, 'India': 1, 'residents': 1, 'shown': 1, 'facing': 1, 'problems': 3, 'finding': 1, 'solutions': 1, 'occasionally': 1, 'highlights': 1, 'social': 1, 'issues': 1, 'episodes': 1, 'based': 1, 'Jethalal': 1, 'stuck': 1, 'problem': 1, 'Taarak': 1, 'Mehta': 1, 'best': 1, 'friend': 1, 'calls': 1, 'Fire': 1, 'Brigade': 1, 'rescues': 1, 'Members': 1, 'live': 1, 'like': 1, 'family': 1, 'help': 1, 'promote': 1, 'unity': 1, 'diversity': 1, 'celebrate': 1, 'festivals': 1, 'organise': 1, 'events': 1}\n"
          ]
        }
      ]
    },
    {
      "cell_type": "code",
      "source": [
        "max_freq = max(word_freq.values())\n",
        "print(max_freq)"
      ],
      "metadata": {
        "id": "xQhKlhnff-VP",
        "colab": {
          "base_uri": "https://localhost:8080/"
        },
        "outputId": "59eb72e6-f0f3-4bc5-b8b1-e511722a2cd4"
      },
      "execution_count": null,
      "outputs": [
        {
          "output_type": "stream",
          "name": "stdout",
          "text": [
            "5\n"
          ]
        }
      ]
    },
    {
      "cell_type": "markdown",
      "source": [
        "normalized freq(words)"
      ],
      "metadata": {
        "id": "Fm0G8MT5v8j5"
      }
    },
    {
      "cell_type": "code",
      "source": [
        "for word in word_freq.keys():\n",
        "  word_freq[word] = word_freq[word]/max_freq\n",
        "\n",
        "print(word_freq)"
      ],
      "metadata": {
        "id": "oFQRGWgNgk79",
        "colab": {
          "base_uri": "https://localhost:8080/"
        },
        "outputId": "467e4fd3-6c39-4b51-d309-e791ba409b8b"
      },
      "execution_count": null,
      "outputs": [
        {
          "output_type": "stream",
          "name": "stdout",
          "text": [
            "{'series': 0.2, 'takes': 0.2, 'place': 0.2, 'Gokuldham': 1.0, 'Co': 0.2, 'operative': 0.2, 'Housing': 0.2, 'Society': 0.6, 'apartment': 0.2, 'complex': 0.2, 'Powder': 0.2, 'Gali': 0.2, 'Film': 0.2, 'City': 0.2, 'Road': 0.2, 'Goregaon': 0.2, 'East': 0.2, 'Mumbai': 0.2, 'focuses': 0.2, 'members': 0.4, 'come': 0.2, 'different': 0.2, 'backgrounds': 0.2, '\\n\\n': 0.2, 'referred': 0.2, 'Mini': 0.2, 'India': 0.2, 'residents': 0.2, 'shown': 0.2, 'facing': 0.2, 'problems': 0.6, 'finding': 0.2, 'solutions': 0.2, 'occasionally': 0.2, 'highlights': 0.2, 'social': 0.2, 'issues': 0.2, 'episodes': 0.2, 'based': 0.2, 'Jethalal': 0.2, 'stuck': 0.2, 'problem': 0.2, 'Taarak': 0.2, 'Mehta': 0.2, 'best': 0.2, 'friend': 0.2, 'calls': 0.2, 'Fire': 0.2, 'Brigade': 0.2, 'rescues': 0.2, 'Members': 0.2, 'live': 0.2, 'like': 0.2, 'family': 0.2, 'help': 0.2, 'promote': 0.2, 'unity': 0.2, 'diversity': 0.2, 'celebrate': 0.2, 'festivals': 0.2, 'organise': 0.2, 'events': 0.2}\n"
          ]
        }
      ]
    },
    {
      "cell_type": "markdown",
      "source": [
        "sentence freq"
      ],
      "metadata": {
        "id": "DREDirFHwL-A"
      }
    },
    {
      "cell_type": "code",
      "source": [
        "sent_tokens = [sent for sent in doc.sents]\n",
        "print(sent_tokens)"
      ],
      "metadata": {
        "id": "k93Gg9P6v5Nt",
        "colab": {
          "base_uri": "https://localhost:8080/"
        },
        "outputId": "fa50a7e4-c5a9-4ed2-9cc4-10db085f0fb7"
      },
      "execution_count": null,
      "outputs": [
        {
          "output_type": "stream",
          "name": "stdout",
          "text": [
            "[The series takes place at the Gokuldham Co-operative Housing Society, an apartment complex in Powder Gali, Film City Road, Goregaon East, Mumbai, and focuses on the members of Gokuldham Society who come from different backgrounds.\n",
            "\n",
            ", Gokuldham is also referred to as \"Mini India\" in the show., The residents of Gokuldham are shown facing many problems and finding solutions for those problems., The show also occasionally highlights social issues., Most of the episodes are based on Jethalal being stuck in a problem and Taarak Mehta, his best friend, whom he calls his \"Fire Brigade\", rescues him., Society Members live like a family and help each other in their problems, to promote unity in diversity., The members of Gokuldham celebrate all the festivals and organise various events too.]\n"
          ]
        }
      ]
    },
    {
      "cell_type": "code",
      "source": [
        "sent_scores = {}\n",
        "\n",
        "for sent in sent_tokens:\n",
        "  for word in sent:\n",
        "    if word.text in word_freq.keys():\n",
        "      if sent not in sent_scores.keys():\n",
        "        sent_scores[sent] = word_freq[word.text]\n",
        "      else:\n",
        "        sent_scores[sent] += word_freq[word.text]\n",
        "\n",
        "print(sent_scores)"
      ],
      "metadata": {
        "id": "0YDECmlswepy",
        "colab": {
          "base_uri": "https://localhost:8080/"
        },
        "outputId": "9cd7b1b0-0734-4048-b11c-b1c1a0ce0305"
      },
      "execution_count": null,
      "outputs": [
        {
          "output_type": "stream",
          "name": "stdout",
          "text": [
            "{The series takes place at the Gokuldham Co-operative Housing Society, an apartment complex in Powder Gali, Film City Road, Goregaon East, Mumbai, and focuses on the members of Gokuldham Society who come from different backgrounds.\n",
            "\n",
            ": 7.8000000000000025, Gokuldham is also referred to as \"Mini India\" in the show.: 1.5999999999999999, The residents of Gokuldham are shown facing many problems and finding solutions for those problems.: 3.2, The show also occasionally highlights social issues.: 0.8, Most of the episodes are based on Jethalal being stuck in a problem and Taarak Mehta, his best friend, whom he calls his \"Fire Brigade\", rescues him.: 2.6, Society Members live like a family and help each other in their problems, to promote unity in diversity.: 2.8000000000000003, The members of Gokuldham celebrate all the festivals and organise various events too.: 2.1999999999999997}\n"
          ]
        }
      ]
    },
    {
      "cell_type": "code",
      "source": [
        "select_len =int(len(sent_tokens) * 0.5)\n",
        "print(select_len)\n"
      ],
      "metadata": {
        "id": "pNt-y6QdxWWd",
        "colab": {
          "base_uri": "https://localhost:8080/"
        },
        "outputId": "703bd7c4-7307-4251-d252-6dbcc1ddedfd"
      },
      "execution_count": null,
      "outputs": [
        {
          "output_type": "stream",
          "name": "stdout",
          "text": [
            "3\n"
          ]
        }
      ]
    },
    {
      "cell_type": "code",
      "source": [
        "from heapq import nlargest"
      ],
      "metadata": {
        "id": "8xH5doV2x5mz"
      },
      "execution_count": null,
      "outputs": []
    },
    {
      "cell_type": "code",
      "source": [
        "summary = nlargest(select_len, sent_scores, key = sent_scores.get)\n",
        "print(summary)"
      ],
      "metadata": {
        "id": "U0FXBiVGxsPj",
        "colab": {
          "base_uri": "https://localhost:8080/"
        },
        "outputId": "b7b452e3-da7e-4db1-c1e1-86ff1afa1a5d"
      },
      "execution_count": null,
      "outputs": [
        {
          "output_type": "stream",
          "name": "stdout",
          "text": [
            "[The series takes place at the Gokuldham Co-operative Housing Society, an apartment complex in Powder Gali, Film City Road, Goregaon East, Mumbai, and focuses on the members of Gokuldham Society who come from different backgrounds.\n",
            "\n",
            ", The residents of Gokuldham are shown facing many problems and finding solutions for those problems., Society Members live like a family and help each other in their problems, to promote unity in diversity.]\n"
          ]
        }
      ]
    },
    {
      "cell_type": "code",
      "source": [
        "final_summary = [word.text for word in summary]\n",
        "summary = ' '.join(final_summary)\n"
      ],
      "metadata": {
        "id": "bK7_pN56yqwh"
      },
      "execution_count": null,
      "outputs": []
    },
    {
      "cell_type": "code",
      "source": [
        "print(text)\n",
        "print()\n",
        "print(summary)"
      ],
      "metadata": {
        "id": "QZjLthU8zGuy",
        "colab": {
          "base_uri": "https://localhost:8080/"
        },
        "outputId": "aa6d37c3-755e-4878-fc52-49d6a1574cd7"
      },
      "execution_count": null,
      "outputs": [
        {
          "output_type": "stream",
          "name": "stdout",
          "text": [
            "The series takes place at the Gokuldham Co-operative Housing Society, an apartment complex in Powder Gali, Film City Road, Goregaon East, Mumbai, and focuses on the members of Gokuldham Society who come from different backgrounds.\n",
            "\n",
            "Gokuldham is also referred to as \"Mini India\" in the show. The residents of Gokuldham are shown facing many problems and finding solutions for those problems. The show also occasionally highlights social issues. Most of the episodes are based on Jethalal being stuck in a problem and Taarak Mehta, his best friend, whom he calls his \"Fire Brigade\", rescues him. Society Members live like a family and help each other in their problems, to promote unity in diversity. The members of Gokuldham celebrate all the festivals and organise various events too.\n",
            "\n",
            "The series takes place at the Gokuldham Co-operative Housing Society, an apartment complex in Powder Gali, Film City Road, Goregaon East, Mumbai, and focuses on the members of Gokuldham Society who come from different backgrounds.\n",
            "\n",
            " The residents of Gokuldham are shown facing many problems and finding solutions for those problems. Society Members live like a family and help each other in their problems, to promote unity in diversity.\n"
          ]
        }
      ]
    },
    {
      "cell_type": "code",
      "source": [
        "print(\"length of original text\",len(text.split(' ')))\n",
        "print(\"length of summary text\",len(summary.split(' ')))\n"
      ],
      "metadata": {
        "id": "oZ2xCZk40RVo",
        "colab": {
          "base_uri": "https://localhost:8080/"
        },
        "outputId": "cfd16cef-fbf9-4e2f-ea81-b04c948538e7"
      },
      "execution_count": null,
      "outputs": [
        {
          "output_type": "stream",
          "name": "stdout",
          "text": [
            "length of original text 125\n",
            "length of summary text 68\n"
          ]
        }
      ]
    }
  ]
}